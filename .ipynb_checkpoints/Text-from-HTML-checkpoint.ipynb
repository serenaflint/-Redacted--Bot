{
 "cells": [
  {
   "cell_type": "code",
   "execution_count": 5,
   "metadata": {},
   "outputs": [],
   "source": [
    "#imports for parsing\n",
    "import requests\n",
    "from bs4 import BeautifulSoup"
   ]
  },
  {
   "cell_type": "code",
   "execution_count": 143,
   "metadata": {
    "scrolled": false
   },
   "outputs": [
    {
     "name": "stdout",
     "output_type": "stream",
     "text": [
      "<p>\n",
      " <strong>\n",
      "  Item #:\n",
      " </strong>\n",
      " SCP-003\n",
      "</p>\n",
      "\n"
     ]
    }
   ],
   "source": [
    "for i in range(3,4):\n",
    "    if(i<10):\n",
    "        link=\"http://www.scp-wiki.net/scp-\"+\"00\"+str(i)\n",
    "        html = requests.get(link).text\n",
    "        \n",
    "        parsed_object = BeautifulSoup(html,\"html.parser\")\n",
    "        parsed_body = parsed_object.body.div.div.div.div\n",
    "        \n",
    "        #print(parsed_body.prettify())\n",
    "        count = 0\n",
    "        for j in parsed_body.find_all('div'):\n",
    "            if(count == 10):\n",
    "                #tag = j.div\n",
    "                #print(tag['id'])\n",
    "                #print(j.prettify())\n",
    "                count2 = 0\n",
    "                for k in j.find_all('div'):\n",
    "                    if(count2 == 47):\n",
    "                        #print(k.prettify())\n",
    "                        count3 = 0\n",
    "                        for l in k.find_all('div'):\n",
    "                            if(count3 == 2):\n",
    "                                print(l.p.prettify())\n",
    "                            count3+=1\n",
    "                    count2+=1\n",
    "                    \n",
    "                    \n",
    "            count+=1\n",
    "        #res = parsed_object.findAll(\"article\", {\"class\": \"listingItem\"})\n",
    "        #for r in res:\n",
    "        #    print(r.find('Item #:'))\n",
    "        #print(html)\n",
    "    elif(i<100):\n",
    "        link=\"http://www.scp-wiki.net/scp-\"+\"0\"+str(i)\n",
    "    else:\n",
    "        link=\"http://www.scp-wiki.net/scp-\"+str(i)"
   ]
  },
  {
   "cell_type": "code",
   "execution_count": null,
   "metadata": {},
   "outputs": [],
   "source": []
  }
 ],
 "metadata": {
  "kernelspec": {
   "display_name": "Python 3",
   "language": "python",
   "name": "python3"
  },
  "language_info": {
   "codemirror_mode": {
    "name": "ipython",
    "version": 3
   },
   "file_extension": ".py",
   "mimetype": "text/x-python",
   "name": "python",
   "nbconvert_exporter": "python",
   "pygments_lexer": "ipython3",
   "version": "3.7.1"
  }
 },
 "nbformat": 4,
 "nbformat_minor": 2
}
