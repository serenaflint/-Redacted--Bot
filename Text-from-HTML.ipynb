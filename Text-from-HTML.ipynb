{
 "cells": [
  {
   "cell_type": "code",
   "execution_count": 5,
   "metadata": {},
   "outputs": [],
   "source": [
    "#imports for parsing\n",
    "import requests\n",
    "from bs4 import BeautifulSoup"
   ]
  },
  {
   "cell_type": "code",
   "execution_count": 155,
   "metadata": {
    "scrolled": false
   },
   "outputs": [
    {
     "name": "stdout",
     "output_type": "stream",
     "text": [
      "Item #: SCP-003\n",
      "Object Class: Euclid\n",
      "Special Containment Procedures: SCP-003 is to be maintained at a constant temperature of no less than 35°C and ideally kept above 100°C. No living multicellular organisms of Category IV or higher complexity may be allowed to come into contact with SCP-003.\n"
     ]
    }
   ],
   "source": [
    "for i in range(3,4):\n",
    "    scp_id = []\n",
    "    scp_class = []\n",
    "    scp_contain = []\n",
    "    scp_desc = []\n",
    "        \n",
    "    if(i<10):\n",
    "        link=\"http://www.scp-wiki.net/scp-\"+\"00\"+str(i)\n",
    "        html = requests.get(link).text\n",
    "        \n",
    "        parsed_object = BeautifulSoup(html,\"html.parser\")\n",
    "        parsed_body = parsed_object.body.div.div.div.div\n",
    "        \n",
    "        #print(parsed_body.prettify())\n",
    "        count = 0\n",
    "        for j in parsed_body.find_all('div'):\n",
    "            if(count == 10):\n",
    "                #tag = j.div\n",
    "                #print(tag['id'])\n",
    "                #print(j.prettify())\n",
    "                count2 = 0\n",
    "                for k in j.find_all('div'):\n",
    "                    if(count2 == 47):\n",
    "                        #print(k.prettify())\n",
    "                        count3 = 0\n",
    "                        for l in k.find_all('div'):\n",
    "                            if(count3 == 2):\n",
    "                                #print(l.p.prettify())\n",
    "                                count4 = 0\n",
    "                                for m in l.find_all('p'):\n",
    "                                    if(count4 == 0):\n",
    "                                        print(m.text)\n",
    "                                    elif(count4 == 1):\n",
    "                                        print(m.text)\n",
    "                                    elif(count4 == 2):\n",
    "                                        print(m.text)\n",
    "                                    count4+=1\n",
    "                            count3+=1\n",
    "                    count2+=1\n",
    "                    \n",
    "                    \n",
    "            count+=1\n",
    "        #res = parsed_object.findAll(\"article\", {\"class\": \"listingItem\"})\n",
    "        #for r in res:\n",
    "        #    print(r.find('Item #:'))\n",
    "        #print(html)\n",
    "    elif(i<100):\n",
    "        link=\"http://www.scp-wiki.net/scp-\"+\"0\"+str(i)\n",
    "    else:\n",
    "        link=\"http://www.scp-wiki.net/scp-\"+str(i)"
   ]
  },
  {
   "cell_type": "code",
   "execution_count": 151,
   "metadata": {
    "scrolled": false
   },
   "outputs": [
    {
     "name": "stdout",
     "output_type": "stream",
     "text": [
      "23956\n"
     ]
    }
   ],
   "source": [
    "link=\"http://www.scp-wiki.net/scp-\"+\"003\"\n",
    "html = requests.get(link).text\n",
    "print(html.find('Item #:'))"
   ]
  },
  {
   "cell_type": "code",
   "execution_count": null,
   "metadata": {},
   "outputs": [],
   "source": []
  }
 ],
 "metadata": {
  "kernelspec": {
   "display_name": "Python 3",
   "language": "python",
   "name": "python3"
  },
  "language_info": {
   "codemirror_mode": {
    "name": "ipython",
    "version": 3
   },
   "file_extension": ".py",
   "mimetype": "text/x-python",
   "name": "python",
   "nbconvert_exporter": "python",
   "pygments_lexer": "ipython3",
   "version": "3.7.1"
  }
 },
 "nbformat": 4,
 "nbformat_minor": 2
}
