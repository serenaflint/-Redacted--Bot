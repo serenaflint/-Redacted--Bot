{
 "cells": [
  {
   "cell_type": "code",
   "execution_count": 38,
   "metadata": {},
   "outputs": [
    {
     "name": "stderr",
     "output_type": "stream",
     "text": [
      "Could not open requirements file: [Errno 2] No such file or directory: 'requirements.txt'\n"
     ]
    }
   ],
   "source": [
    "import markovify\n",
    "import random\n",
    "import re"
   ]
  },
  {
   "cell_type": "code",
   "execution_count": 40,
   "metadata": {},
   "outputs": [],
   "source": [
    "#loading data from an SCP file\n",
    "file = \"Archive/MASTERCONTAIN.txt\"\n",
    "raw_text_c = open(file, 'r', encoding='utf-8').read()\n",
    "clean_text_c = raw_text_c.replace('\\xa0',' ')\n",
    "\n",
    "file2 = \"Archive/MASTERDESC.txt\"\n",
    "raw_text_d = open(file2, 'r', encoding='utf-8').read()\n",
    "clean_text_d = raw_text_d.replace('\\xa0',' ')"
   ]
  },
  {
   "cell_type": "code",
   "execution_count": 41,
   "metadata": {},
   "outputs": [],
   "source": [
    "text_model_c = markovify.Text(clean_text_c, state_size=2)\n",
    "text_model_d = markovify.Text(clean_text_d, state_size=2)"
   ]
  },
  {
   "cell_type": "code",
   "execution_count": 43,
   "metadata": {},
   "outputs": [
    {
     "name": "stdout",
     "output_type": "stream",
     "text": [
      "Wall time: 2min 42s\n"
     ]
    }
   ],
   "source": [
    "%%time\n",
    "def gen_sentences_contain(max):\n",
    "    string = ''\n",
    "    for idx in range(max):\n",
    "        string = string + text_model_c.make_sentence() + ' '\n",
    "    return string\n",
    "\n",
    "def gen_sentences_desc(max):\n",
    "    string = ''\n",
    "    for idx in range(max):\n",
    "        string = string + text_model_d.make_sentence() + ' '\n",
    "    return string\n",
    "   \n",
    "class_list = [\"Safe\"]*35 + [\"Euclid\"]*37 + [\"Keter\"]*27 + [\"Thaumial\"]\n",
    "\n",
    "for i in range(2,502):\n",
    "    if(i<10):\n",
    "        f = open(\"Generated/scp00\"+str(i)+\"-dh.txt\", \"w+\", encoding=\"utf-8\")\n",
    "        scp_num = \"Item #: SCP-00\" + str(i) + \"\\n\\n\"\n",
    "        f.write(scp_num)\n",
    "        scp_class = \"Object Class: \" + random.choice(class_list) + \"\\n\\n\"\n",
    "        f.write(scp_class)\n",
    "        f.write(\"Special Containment Procedures: \")\n",
    "        scp_contain = gen_sentences_contain(random.randint(5,35))\n",
    "        scp_contain2 = re.sub(r'SCP-\\d{3}', \"SCP-00\"+str(i), scp_contain)\n",
    "        f.write(scp_contain2 + \"\\n\\n\")\n",
    "        f.write(\"Description: \")\n",
    "        scp_desc = gen_sentences_desc(random.randint(5,35))\n",
    "        scp_desc2 = re.sub(r'SCP-\\d{3}', \"SCP-00\"+str(i), scp_desc)\n",
    "        f.write(scp_desc2)\n",
    "        f.close()\n",
    "    elif(i<100):\n",
    "        f = open(\"Generated/scp0\"+str(i)+\"-dh.txt\", \"w+\", encoding=\"utf-8\")\n",
    "        scp_num = \"Item #: SCP-0\" + str(i) + \"\\n\\n\"\n",
    "        f.write(scp_num)\n",
    "        scp_class = \"Object Class: \" + random.choice(class_list) + \"\\n\\n\"\n",
    "        f.write(scp_class)\n",
    "        f.write(\"Special Containment Procedures: \")\n",
    "        scp_contain = gen_sentences_contain(random.randint(5,35))\n",
    "        scp_contain2 = re.sub(r'SCP-\\d{3}', \"SCP-0\"+str(i), scp_contain)\n",
    "        f.write(scp_contain2 + \"\\n\\n\")\n",
    "        f.write(\"Description: \")\n",
    "        scp_desc = gen_sentences_desc(random.randint(5,35))\n",
    "        scp_desc2 = re.sub(r'SCP-\\d{3}', \"SCP-0\"+str(i), scp_desc)\n",
    "        f.write(scp_desc2)\n",
    "        f.close()\n",
    "    else:\n",
    "        f = open(\"Generated/scp\"+str(i)+\"-dh.txt\", \"w+\", encoding=\"utf-8\")\n",
    "        scp_num = \"Item #: SCP-\" + str(i) + \"\\n\\n\"\n",
    "        f.write(scp_num)\n",
    "        scp_class = \"Object Class: \" + random.choice(class_list) + \"\\n\\n\"\n",
    "        f.write(scp_class)\n",
    "        f.write(\"Special Containment Procedures: \")\n",
    "        scp_contain = gen_sentences_contain(random.randint(5,35))\n",
    "        scp_contain2 = re.sub(r'SCP-\\d{3}', \"SCP-\"+str(i), scp_contain)\n",
    "        f.write(scp_contain2 + \"\\n\\n\")\n",
    "        f.write(\"Description: \")\n",
    "        scp_desc = gen_sentences_desc(random.randint(5,35))\n",
    "        scp_desc2 = re.sub(r'SCP-\\d{3}', \"SCP-\"+str(i), scp_desc)\n",
    "        f.write(scp_desc2)\n",
    "        f.close()"
   ]
  },
  {
   "cell_type": "code",
   "execution_count": null,
   "metadata": {},
   "outputs": [],
   "source": []
  }
 ],
 "metadata": {
  "kernelspec": {
   "display_name": "Python 3",
   "language": "python",
   "name": "python3"
  },
  "language_info": {
   "codemirror_mode": {
    "name": "ipython",
    "version": 3
   },
   "file_extension": ".py",
   "mimetype": "text/x-python",
   "name": "python",
   "nbconvert_exporter": "python",
   "pygments_lexer": "ipython3",
   "version": "3.7.1"
  }
 },
 "nbformat": 4,
 "nbformat_minor": 2
}
