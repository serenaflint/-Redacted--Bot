{
 "cells": [
  {
   "cell_type": "code",
   "execution_count": 1,
   "metadata": {},
   "outputs": [
    {
     "name": "stderr",
     "output_type": "stream",
     "text": [
      "Using TensorFlow backend.\n"
     ]
    }
   ],
   "source": [
    "import numpy as np\n",
    "\n",
    "from keras.models import Sequential\n",
    "from keras.layers import Dense\n",
    "from keras.layers import Dropout\n",
    "from keras.layers import LSTM\n",
    "from keras.layers import RNN\n",
    "from keras.utils import np_utils"
   ]
  },
  {
   "cell_type": "markdown",
   "metadata": {},
   "source": [
    "##### Model Structure"
   ]
  },
  {
   "cell_type": "code",
   "execution_count": 2,
   "metadata": {},
   "outputs": [],
   "source": [
    "#defining the LSTM model\n",
    "def LSTM_model():\n",
    "    model = Sequential()\n",
    "    \n",
    "    model.add(LSTM(400,input_shape=(X_mod.shape[1], X_mod.shape[2]), return_sequences=True))\n",
    "    model.add(Dropout(0.2))\n",
    "    model.add(LSTM(400))\n",
    "    model.add(Dropout(0.1))\n",
    "    model.add(Dense(Y_mod.shape[1], activation='softmax'))\n",
    "    \n",
    "    model.compile(loss='categorical_crossentropy', optimizer='adam', metrics=['accuracy'])\n",
    "    return model"
   ]
  },
  {
   "cell_type": "markdown",
   "metadata": {},
   "source": [
    "##### Preapring Data"
   ]
  },
  {
   "cell_type": "code",
   "execution_count": 3,
   "metadata": {},
   "outputs": [
    {
     "name": "stdout",
     "output_type": "stream",
     "text": [
      "['\\n', ' ', '!', '\"', '#', '$', '%', \"'\", '(', ')', '*', '+', ',', '-', '.', '/', '0', '1', '2', '3', '4', '5', '6', '7', '8', '9', ':', ';', '=', '?', '[', ']', '_', 'a', 'b', 'c', 'd', 'e', 'f', 'g', 'h', 'i', 'j', 'k', 'l', 'm', 'n', 'o', 'p', 'q', 'r', 's', 't', 'u', 'v', 'w', 'x', 'y', 'z', '█']\n"
     ]
    }
   ],
   "source": [
    "#loading data from an SCP file\n",
    "file = \"Archive/MASTERLIST.txt\"\n",
    "raw_text = open(file, 'r', encoding='utf-8').read()\n",
    "\n",
    "reject_chars = ['€','é','î','³','•','▸','◂','|','°','º','»','«','…','>','<','—','‘','’','“','”','–','~','^']\n",
    "raw_text = raw_text.lower()\n",
    "\n",
    "for i in reject_chars:\n",
    "    raw_text = raw_text.replace(i,'')\n",
    "\n",
    "raw_text = raw_text.replace('\\xa0',' ')\n",
    "    \n",
    "#creating an alphabet for the LSTM\n",
    "chars = sorted(list(set(raw_text)))\n",
    "n_to_char = {n:char for n, char in enumerate(chars)}\n",
    "char_to_n = {char:n for n, char in enumerate(chars)}\n",
    "print(chars)\n",
    "\n",
    "seq_length = 100\n",
    "X = []\n",
    "Y = []\n",
    "\n",
    "length = len(raw_text)\n",
    "\n",
    "#creating sequences\n",
    "for j in range(0, length-seq_length, 1):\n",
    "    sequence = raw_text[j:j + seq_length]\n",
    "    label = raw_text[j + seq_length]\n",
    "    X.append([char_to_n[char] for char in sequence])\n",
    "    Y.append(char_to_n[label])"
   ]
  },
  {
   "cell_type": "code",
   "execution_count": 4,
   "metadata": {},
   "outputs": [],
   "source": [
    "#NOTE: COULD BE AN ISSUE OF ENCODING EACH SCP FILE DIFFERENTLY\n",
    "X_mod = np.reshape(X, (len(X), seq_length, 1))\n",
    "X_mod = X_mod / float(len(chars))\n",
    "Y_mod = np_utils.to_categorical(Y)"
   ]
  },
  {
   "cell_type": "code",
   "execution_count": 5,
   "metadata": {
    "scrolled": false
   },
   "outputs": [
    {
     "name": "stdout",
     "output_type": "stream",
     "text": [
      "WARNING:tensorflow:From C:\\Users\\seren\\Anaconda3\\lib\\site-packages\\tensorflow\\python\\framework\\op_def_library.py:263: colocate_with (from tensorflow.python.framework.ops) is deprecated and will be removed in a future version.\n",
      "Instructions for updating:\n",
      "Colocations handled automatically by placer.\n",
      "WARNING:tensorflow:From C:\\Users\\seren\\Anaconda3\\lib\\site-packages\\keras\\backend\\tensorflow_backend.py:3445: calling dropout (from tensorflow.python.ops.nn_ops) with keep_prob is deprecated and will be removed in a future version.\n",
      "Instructions for updating:\n",
      "Please use `rate` instead of `keep_prob`. Rate should be set to `rate = 1 - keep_prob`.\n"
     ]
    }
   ],
   "source": [
    "#X, y, dataX, dataY, n_chars, n_vocab, int_to_char = load_data(\"003\")\n",
    "\n",
    "model = LSTM_model()"
   ]
  },
  {
   "cell_type": "markdown",
   "metadata": {},
   "source": [
    "##### Training the Model"
   ]
  },
  {
   "cell_type": "code",
   "execution_count": 6,
   "metadata": {},
   "outputs": [
    {
     "name": "stdout",
     "output_type": "stream",
     "text": [
      "WARNING:tensorflow:From C:\\Users\\seren\\Anaconda3\\lib\\site-packages\\tensorflow\\python\\ops\\math_ops.py:3066: to_int32 (from tensorflow.python.ops.math_ops) is deprecated and will be removed in a future version.\n",
      "Instructions for updating:\n",
      "Use tf.cast instead.\n",
      "Epoch 1/1\n",
      "517818/517818 [==============================] - 5728s 11ms/step - loss: 2.6271 - acc: 0.2556\n"
     ]
    }
   ],
   "source": [
    "saved_model = model.fit(X_mod, Y_mod, epochs = 1, batch_size = 100)\n",
    "model.save_weights('help.h5')"
   ]
  },
  {
   "cell_type": "markdown",
   "metadata": {},
   "source": [
    "##### Generating \"SCP Text\" :^)"
   ]
  },
  {
   "cell_type": "code",
   "execution_count": 8,
   "metadata": {},
   "outputs": [],
   "source": [
    "string_mapping = X[0]\n",
    "full_string = [n_to_char[value] for value in string_mapping]\n",
    "\n",
    "#generate characters\n",
    "for i in range(400):\n",
    "    x = np.reshape(string_mapping, (1, len(string_mapping), 1))\n",
    "    x = x / float(len(chars))\n",
    "    \n",
    "    pred_index = np.argmax(model.predict(x, verbose=0))\n",
    "    #predicted = model.predict(x,verbose=0)\n",
    "    #pred_index2 = np.random.choice(len(predicted), predicted)\n",
    "    seq = [n_to_char[value] for value in string_mapping]\n",
    "    full_string.append(n_to_char[pred_index])\n",
    "\n",
    "    string_mapping.append(pred_index)\n",
    "    string_mapping = string_mapping[1:len(string_mapping)]"
   ]
  },
  {
   "cell_type": "code",
   "execution_count": 9,
   "metadata": {},
   "outputs": [
    {
     "name": "stdout",
     "output_type": "stream",
     "text": [
      "\n",
      "rating: +1187+x\n",
      "\n",
      "\n",
      "scp-002 in its containment area\n",
      "\n",
      "\n",
      "item #: scp-002\n",
      "object class: euclid\n",
      "special containment procedures: scp-033 is to be centetion of the sepeing the sepeing the sepeing the sepeing the sepeing the sepeing the sepeing the sepeing the sepeing the sepeing the sepeing the sepeing the sepeing the sepeing the sepeing the sepeing the sepeing the sepeing the sepeing the sepeing the sepeing the sepeing the sepeing the sepeing the sepeing the sepeing the sepeing the sepeing the sepeing \n"
     ]
    }
   ],
   "source": [
    "#combining text\n",
    "txt = \"\"\n",
    "for char in full_string:\n",
    "    txt = txt+char\n",
    "\n",
    "print(txt)"
   ]
  },
  {
   "cell_type": "code",
   "execution_count": null,
   "metadata": {},
   "outputs": [],
   "source": []
  }
 ],
 "metadata": {
  "kernelspec": {
   "display_name": "Python 3",
   "language": "python",
   "name": "python3"
  },
  "language_info": {
   "codemirror_mode": {
    "name": "ipython",
    "version": 3
   },
   "file_extension": ".py",
   "mimetype": "text/x-python",
   "name": "python",
   "nbconvert_exporter": "python",
   "pygments_lexer": "ipython3",
   "version": "3.7.1"
  }
 },
 "nbformat": 4,
 "nbformat_minor": 2
}
