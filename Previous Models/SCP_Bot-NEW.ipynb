{
 "cells": [
  {
   "cell_type": "code",
   "execution_count": 2,
   "metadata": {},
   "outputs": [
    {
     "name": "stderr",
     "output_type": "stream",
     "text": [
      "Using TensorFlow backend.\n"
     ]
    }
   ],
   "source": [
    "import keras\n",
    "import numpy as np\n",
    "from keras import layers"
   ]
  },
  {
   "cell_type": "markdown",
   "metadata": {},
   "source": [
    "##### Preapring Data"
   ]
  },
  {
   "cell_type": "code",
   "execution_count": 3,
   "metadata": {},
   "outputs": [
    {
     "name": "stdout",
     "output_type": "stream",
     "text": [
      "Number of sequences: 172551\n",
      "Unique characters: 58\n",
      "Vectorization...\n"
     ]
    }
   ],
   "source": [
    "#loading data from an SCP file\n",
    "file = \"Archive/MASTERLIST.txt\"\n",
    "raw_text = open(file, 'r', encoding='utf-8').read()\n",
    "\n",
    "reject_chars = ['€','é','î','³','•','▸','◂','|','°','º','»','«','…','>','<','—','‘','’','“','”','–','~','^', '$', '+']\n",
    "raw_text = raw_text.lower()\n",
    "\n",
    "for i in reject_chars:\n",
    "    raw_text = raw_text.replace(i,'')\n",
    "\n",
    "text = raw_text.replace('\\xa0',' ')\n",
    "    \n",
    "# Length of extracted character sequences\n",
    "maxlen = 60\n",
    "\n",
    "# We sample a new sequence every `step` characters\n",
    "step = 3\n",
    "\n",
    "# This holds our extracted sequences\n",
    "sentences = []\n",
    "\n",
    "# This holds the targets (the follow-up characters)\n",
    "next_chars = []\n",
    "\n",
    "for i in range(0, len(text) - maxlen, step):\n",
    "    sentences.append(text[i: i + maxlen])\n",
    "    next_chars.append(text[i + maxlen])\n",
    "print('Number of sequences:', len(sentences))\n",
    "\n",
    "# List of unique characters in the corpus\n",
    "chars = sorted(list(set(text)))\n",
    "print('Unique characters:', len(chars))\n",
    "# Dictionary mapping unique characters to their index in `chars`\n",
    "char_indices = dict((char, chars.index(char)) for char in chars)\n",
    "\n",
    "# Next, one-hot encode the characters into binary arrays.\n",
    "print('Vectorization...')\n",
    "x = np.zeros((len(sentences), maxlen, len(chars)), dtype=np.bool)\n",
    "y = np.zeros((len(sentences), len(chars)), dtype=np.bool)\n",
    "for i, sentence in enumerate(sentences):\n",
    "    for t, char in enumerate(sentence):\n",
    "        x[i, t, char_indices[char]] = 1\n",
    "    y[i, char_indices[next_chars[i]]] = 1"
   ]
  },
  {
   "cell_type": "markdown",
   "metadata": {},
   "source": [
    "##### Model Structure"
   ]
  },
  {
   "cell_type": "code",
   "execution_count": 4,
   "metadata": {},
   "outputs": [
    {
     "name": "stdout",
     "output_type": "stream",
     "text": [
      "WARNING:tensorflow:From C:\\Users\\seren\\Anaconda3\\lib\\site-packages\\tensorflow\\python\\framework\\op_def_library.py:263: colocate_with (from tensorflow.python.framework.ops) is deprecated and will be removed in a future version.\n",
      "Instructions for updating:\n",
      "Colocations handled automatically by placer.\n"
     ]
    }
   ],
   "source": [
    "model = keras.models.Sequential()\n",
    "model.add(layers.LSTM(128, input_shape=(maxlen, len(chars))))\n",
    "model.add(layers.Dense(len(chars), activation='softmax'))"
   ]
  },
  {
   "cell_type": "code",
   "execution_count": 5,
   "metadata": {},
   "outputs": [],
   "source": [
    "optimizer = keras.optimizers.RMSprop(lr=0.01)\n",
    "model.compile(loss='categorical_crossentropy', optimizer=optimizer)"
   ]
  },
  {
   "cell_type": "markdown",
   "metadata": {},
   "source": [
    "##### Training the Model"
   ]
  },
  {
   "cell_type": "code",
   "execution_count": 6,
   "metadata": {},
   "outputs": [],
   "source": [
    "def sample(preds, temperature=1.0):\n",
    "    preds = np.asarray(preds).astype('float64')\n",
    "    preds = np.log(preds) / temperature\n",
    "    exp_preds = np.exp(preds)\n",
    "    preds = exp_preds / np.sum(exp_preds)\n",
    "    probas = np.random.multinomial(1, preds, 1)\n",
    "    return np.argmax(probas)"
   ]
  },
  {
   "cell_type": "code",
   "execution_count": 7,
   "metadata": {
    "scrolled": false
   },
   "outputs": [
    {
     "name": "stdout",
     "output_type": "stream",
     "text": [
      "epoch 1\n",
      "WARNING:tensorflow:From C:\\Users\\seren\\Anaconda3\\lib\\site-packages\\tensorflow\\python\\ops\\math_ops.py:3066: to_int32 (from tensorflow.python.ops.math_ops) is deprecated and will be removed in a future version.\n",
      "Instructions for updating:\n",
      "Use tf.cast instead.\n",
      "Epoch 1/1\n",
      "172551/172551 [==============================] - 157s 912us/step - loss: 2.0069\n",
      "--- Generating with seed: \" scp-042 to rise so that it can be cleaned, but eventually i\"\n",
      "------ temperature: 0.2\n",
      " scp-042 to rise so that it can be cleaned, but eventually in the are and and to to to to the restarce and to to to scp-100 all passive and to to to to to scp-100 and and to to to the restarce and to the formal to to to to to to the formal of the and to scp-100 in to scp-100 is a subject and to to to to to to to to to the about and to a subject and to be to be are and of the considure to to to to the a subject and to time and to to to to to to scp-107 is t\n",
      "------ temperature: 0.5\n",
      "the a subject and to time and to to to to to to scp-107 is to scp-1 and inside affected to considure and scp-10.\n",
      "about a scp-152 as to agen in subject with a to inclusis to a to to to scp-181 and to to scp-102 is subject of a condation of scp-100 age subject and formand at all not about in the of oll to to the restard has been disage have records and and any belies to prose to to to sic leese formation to scp-078 and considure anomalous of it of the factur\n",
      "------ temperature: 1.0\n",
      "ation to scp-078 and considure anomalous of it of the facture to addustly alove with scp  or the instance agen noulr tincla incroslicitiom.\n",
      "ok a everaom of be profoce of 5 p stepe scp-112 4 ██████: hisrevely ugnather marnudes to sishoid it dur sigss was surdact of tho grove.levtiviomsuras indigiatex, modia to longereve, whenental is but to to to the jut ullising la0sh,.0 0h82 id sobviom wime\n",
      "into plitint.\n",
      "a now murled fo-sipe wangun4 actatisted (sacconsman\n",
      "------ temperature: 1.2\n",
      "plitint.\n",
      "a now murled fo-sipe wangun4 actatisted (sacconsmant clast of the w adbendatian, all libjectsous and a conmandelgefinsiws wpunk pasci: stuen ans enceyps conserverective ircally totk requer ons toke win youls.lided ageagh ██ wepk deves cipsity rhollly usiv-shter jo. flempnatal a trord.\n",
      "scp-3: 5hn m stfferted, is.\n",
      "sevenlat in ite his logativan tolphan, a vilen, as peasisnich to sigks to secaccay it high incanerature tardera.\n",
      "scp-en-8ije4 unimentucit\n",
      "epoch 2\n",
      "Epoch 1/1\n",
      "172551/172551 [==============================] - 155s 896us/step - loss: 1.6205\n",
      "--- Generating with seed: \" additional ██ weeks.\n",
      "\n",
      "further testing authorized; results n\"\n",
      "------ temperature: 0.2\n",
      " additional ██ weeks.\n",
      "\n",
      "further testing authorized; results no tranger and scp-083 and a state the recovered and the tranger that the scp-003 and a security the containment procedures and the report to the containment procedure with a site of the subject which the recorded to the strating the properties and the destruction of the state and a monder to the containment have been a sile that the state of the containment procedures and the state of the recovere\n",
      "------ temperature: 0.5\n",
      " of the containment procedures and the state of the recovered with it the report to the descriptions are to be the beare in scp-041 was all and and destruction and scp-091 to be denicolated and the presence and mankering and an enemal that the crecture or teaturered when the subject will and the details to the attempt of scp-073 was scp-045 and preseral reacher to the class two been it and the standard the stands of scp-031 which have been and the for a be\n",
      "------ temperature: 1.0\n",
      "ndard the stands of scp-031 which have been and the for a been your 2000 minnee scp have a siv0lomed\" alp notax of the generancal wass ba becomal cy nicter recondant year document we trangle other wains seced(monion, scp-071 areuter, and aboothylusing ability whith in niwn tims, and facicmed the dear in vil, arearal port to ad will appraxial containly takinolched.\n",
      "\n",
      "\n",
      "death neered exposed a re. testing additiolstage. im inrecide that  scp reporpe and the scp\n",
      "------ temperature: 1.2\n",
      "ing additiolstage. im inrecide that  scp reporpe and the scp-060' cade, zecumal ushil deim, as futiager, andemain franeble which diraly, anvopramed the wedings and heep) escormaldem tranmfaricll, oper are as oncucs, beely fromay. whic incsiansly perpoon 4 bura furtter tem room: (wil carides onfeced as li[atteps: un-██████ cuts grokect to inutred it retails breaks orsa to yoo, the s.-0blager when m ankshmesck, at. what maysyrara\n",
      "\n",
      "stentyen to cdy it will spr\n",
      "epoch 3\n",
      "Epoch 1/1\n",
      "172551/172551 [==============================] - 156s 903us/step - loss: 1.5182\n",
      "--- Generating with seed: \", scp-088 is merely in a state of hibernation from which it \"\n",
      "------ temperature: 0.2\n",
      ", scp-088 is merely in a state of hibernation from which it is to be all the subject is a similar and researcher of the subject is all the subject is all and subject in the subject is a scp-092 are the subject is all the researcher and the subject is a standard and are destriy and all the subject is all to be in an and scp-092 are to be all the area in a continued to be a security of an and subjects the subject is a sealed the subject is all with a lead an\n",
      "------ temperature: 0.5\n",
      "ts the subject is a sealed the subject is all with a lead and security to enters the prist to dreated to be security producing are been collent brought all and an observated and begin found the several emale in and such in its containment processile with a firtering containment procedures who stard of an and in plased in a ground the subject is to be immention in a be will be as all this be composed the seclease of the reaction with scp-079 is a produce to\n",
      "------ temperature: 1.0\n",
      "ed the seclease of the reaction with scp-079 is a produce to disailhin and such that that or lauch los currance by a\n",
      " the eircistelf living no solar, paineds. i has been defrects will suicide this ramic tcin's terat was continuest shelesed ther respenting agent between massforial located.\n",
      "scp-to earen of the contained blood hea it's lecate are through seesiarological scp-232 is a killingang auth scp-019-2 may be now ink doss 0latic lovely included the livi\n",
      "------ temperature: 1.2\n",
      "cp-019-2 may be now ink doss 0latic lovely included the living inknomally, recovery custr, and ree -utase a wasl becance ) daage\", alsoraming has been kilutually and urbiol isber sight for imbulore have odly the abte reseived to locations playelon in ilobormans.\n",
      "scp-023-2 is xist sued foodes inacceased though it-loss her other if i ground tin must breapic corpise i diction onts at ipistancud. the date aher by unher, 'scheasing suilial pingencsical siccite \n",
      "epoch 4\n",
      "Epoch 1/1\n",
      "172551/172551 [==============================] - 150s 868us/step - loss: 1.4638\n",
      "--- Generating with seed: \"004-1. the site is to stock supplies for ███████ person-days\"\n",
      "------ temperature: 0.2\n",
      "004-1. the site is to stock supplies for ███████ person-days of the artication of the artication of the encent the subject the contained to the articate of the artifaction of the artication of the artication and the artication of the artication are to be a minutes of the property the artication of the artifact and a minutes of the subject with a the ability to senters of the artifuls and scp-042 was a minutes and a minot and for the and any and state of th\n",
      "------ temperature: 0.5\n",
      "as a minutes and a minot and for the and any and state of the artifuls a fect with the limited that the and enters entered procession of scp-050 is to be alitied to offected the human commonner to any several determine as the 232 interview mist and so several depending the personnel with a seterated to be the state contained to be as a the contained with scp-036 is to be death the property stated by a local replace of the artillity and scp-047 is to be con\n",
      "------ temperature: 1.0\n",
      "by a local replace of the artillity and scp-047 is to be contained from dxametely become do but security peryoted will booth melusing stupn-████y roome antmorate , authorized minied , litides. those if items of to auth and as, on the durity materimans psssiped by locker will destroyed. this around scp-034 is to be maninot damage ently 1l.\n",
      "\n"
     ]
    },
    {
     "name": "stdout",
     "output_type": "stream",
     "text": [
      "remait of a sibces dr. i change, document of an it was recorded fundinging of scp-053 be besion of engummed is beleavi\n",
      "------ temperature: 1.2\n",
      "orded fundinging of scp-053 be besion of engummed is beleaving asyled inten this\" thetking do most abozt mulbics hund\n",
      "\n",
      "\n",
      "tmone. oftend hay beapajiatilites.\n",
      "except interved any forputs escept 'reace and on the the nonht these townopal say the \"peress dismovem inthomease labole freesigated.\n",
      "35 smasch the ornafiegn of-he thet however, funnatuin. wor four test uncontectioncal p\n",
      "reensitals detogan: raph take befored presule that amant itiyetg accur denivated. an\n",
      "epoch 5\n",
      "Epoch 1/1\n",
      "172551/172551 [==============================] - 158s 913us/step - loss: 1.4281\n",
      "--- Generating with seed: \"mble experiment\n",
      "test 1: scp-010-2 taken apart piecewise, the\"\n",
      "------ temperature: 0.2\n",
      "mble experiment\n",
      "test 1: scp-010-2 taken apart piecewise, the reactive to be a leastifling and and the researchers are to be several form of scp-045 are to be a state of scp-045 contained to scp-040 is to be measures of scp-083. scp-040 class d state of scp-053 have see donne and scp-082's seen to be temperature to the researchers are to be test security of scp-045 was all personality of scp-049 was all times and contained to the found the reactive to the f\n",
      "------ temperature: 0.5\n",
      "s all times and contained to the found the reactive to the first for a security containment in the resident of the form of scp-059-1 destroy, in die although the form of scp-041 are to be test and who on the foundation in the seach that the retain will designated by remethod to the found the researchers of scp-045 show and scp-013. a location and eathess in a leads to at sen designated and how severed with the returned to be kept show to the security for a\n",
      "------ temperature: 1.0\n",
      "ered with the returned to be kept show to the security for added to scp-025. transporaftion of a negarity was reducedring until been huganoaistically, not seering werulated by when scp-003-1 becomes and foun scp-003-2 begin pain by bloeve form deed-on experiment.\n",
      "\n",
      "ad. celbic severals eposed to be height guardded on lest transftring directed for despl hightachant ax5 m doct undergonsest hersosle.\n",
      "personne: 3 h due exters\n",
      "bourns insideks thalkm 1: lu8dered t\n",
      "------ temperature: 1.2\n",
      "ersonne: 3 h due exters\n",
      "bourns insideks thalkm 1: lu8dered to showdndal-limpefifi. mus ceas ar p'tt besick'sca-forts. in tif 9, all personnels than 9q, on processt to protocol ptimingifary fidainns other cade, and fieves, and faces ordesed of co killins, reanimate us, shir mering arhe's perforanc-118\n",
      "rinns\n",
      "obleneat:\n",
      "o: a secently feinters.\n",
      "cadpoces or at alstigs don, byldy orter to its \"noindilized the chemendes or mod\n",
      "treen secent'y sat x cider, 6nox., an\n",
      "epoch 6\n",
      "Epoch 1/1\n",
      "172551/172551 [==============================] - 153s 888us/step - loss: 1.4008\n",
      "--- Generating with seed: \"posure: subject is exposed to scp-009, and it begins assimil\"\n",
      "------ temperature: 0.2\n",
      "posure: subject is exposed to scp-009, and it begins assimilar work of scp-097 will be a shape of scp-089 was the staff and scp-037 are to be appeared to a shire scp-097 was contact with the subject which it is to be mass staff with the staff the staff and scp-042 will be a share scp-076-1 of scp-086 is to be staff will be a short scp-032 was all times and scp-052 are to be the area of scp-097 are to be a short and scp-056-2 is to be a sealed to scp-003-1 \n",
      "------ temperature: 0.5\n",
      " to be a short and scp-056-2 is to be a sealed to scp-003-1 of scp-055's part of scp-059 are short and in containment areaming the scp-086-1 is to be contact with a light many the proceed to scp-024 and be to the new approvem staff appears to be a sherming to scp-086 and all times will contact with the its personnel dispersed for a sheeting a maintained to the scp-052 was the fall security and researchers of the any weeks in the security pack the fires of \n",
      "------ temperature: 1.0\n",
      "earchers of the any weeks in the security pack the fires of scp-093 leising to the agent of ████ (1) its exharms clear. the painted contain thry who i level-1 betint. s5portance in one of an away, nat.\n",
      "the create no known test scp-093. subjects after personnel a d ageit detrodal phourting approximately scp-012, scp-089 is locuted. to your, sa hoadly, simingar food the laring armap showing interviewer to sevent a x are bots broughesh within numbors. of the \n",
      "------ temperature: 1.2\n",
      "wer to sevent a x are bots broughesh within numbors. of the dr. volbis veend exposure all of emplohor of the ridivel cell. antaclless noter.\n",
      "emately hemse scp-007. asked scopigated lairicss, and ryquen in yhors, , all sevless or back to both in reports chetile milws offercie, who hear piiming. scp-098 examinually sq(auhists with auth effect dupied appased leavching, scp-067 more normal bot materially larting victim cimne access thre]. datial aksumand to . \n",
      "epoch 7\n",
      "Epoch 1/1\n",
      "172551/172551 [==============================] - 152s 883us/step - loss: 1.3819\n",
      "--- Generating with seed: \"ved a large dosage of the compound, administered directly vi\"\n",
      "------ temperature: 0.2\n",
      "ved a large dosage of the compound, administered directly vided and any the severe the security personnel with the containment of the subject with a security of scp-003 is to be an initial being the containment and the conditions of containment properties of the several and and and scp-055 has been allowed to the containment produced to its to be a site and containment and the seen to be a monitored to the security produced in or manner of the original con\n",
      "------ temperature: 0.5\n",
      "ed to the security produced in or manner of the original consists of a seen to several further with scp-097 was alreasonce of the top the original subject with well and security procedures and the designate manifestic that with the composion of it and containment consists of incidents. subject containmen"
     ]
    },
    {
     "name": "stderr",
     "output_type": "stream",
     "text": [
      "C:\\Users\\seren\\Anaconda3\\lib\\site-packages\\ipykernel_launcher.py:3: RuntimeWarning: divide by zero encountered in log\n",
      "  This is separate from the ipykernel package so we can avoid doing imports until\n"
     ]
    },
    {
     "name": "stdout",
     "output_type": "stream",
     "text": [
      "t presents of its containment subject can be water of the sentenic dimansity within scp-058 was potencibity of scp-005 is to be allowed to connected by per\n",
      "------ temperature: 1.0\n",
      " potencibity of scp-005 is to be allowed to connected by personnel security instruction. report components of security into the it and hepp at except the succ'ddity was suik purchat and founds coinent sembelatd breach growth himphoocal organ from possibly and consiste. this being include you, creasic to of of sife (in3(gings of xparps thansh undisin eth. as plantain, the present of secretotal period recording it enacce oping topef flied agentic aunisaledid\n",
      "------ temperature: 1.2\n",
      "od recording it enacce oping topef flied agentic aunisaledid, and 52, 27374 (pending this were begin that it aunch, who dom just as an addition of beaturiligns musiby jucked-bleary (quapteclovame stleask\"s than who gask leaveilonalyoge lecond limal could sealid. she wannlorogy are rupt fill doss, to a, : you rojeclamb a volume of called stage 7, is onf. throoher class. scp-091 wmunding from other is wenging, and twt to cbroh, and this are becad known testi\n",
      "epoch 8\n",
      "Epoch 1/1\n",
      "172551/172551 [==============================] - 154s 890us/step - loss: 1.3648\n",
      "--- Generating with seed: \"ting: 230\n",
      "\n",
      "\n",
      "scp-2461\n",
      "rating: 142\n",
      "\n",
      "\n",
      "scp-233\n",
      "rating: 141\n",
      "\n",
      "\n",
      "\n",
      "\n",
      "\n",
      "\"\n",
      "------ temperature: 0.2\n",
      "ting: 230\n",
      "\n",
      "\n",
      "scp-2461\n",
      "rating: 142\n",
      "\n",
      "\n",
      "scp-233\n",
      "rating: 141\n",
      "\n",
      "\n",
      "\n",
      "\n",
      "\n",
      "\n",
      "\n",
      "\n",
      "scp-092-166\n",
      "\n",
      "\n",
      "scp-092-166\n",
      "\n",
      "\n",
      "scp-092-168\n",
      "listeners the area and scp-092 are to be a standard the subject who and the area and the ability to a standard and scp-092 is to be a standard experiment to scp-092 are to be a standard in the ability to the standard with scp-092 are to be a standard me began to be a standard within the containment procedures and all the process that the subject while the\n",
      "------ temperature: 0.5\n",
      "nt procedures and all the process that the subject while the ability to be entering scp-046 is to be a carled within the enclosed to scp-084 was a food proporal of scp-086-5 is to be members because the new scp-067 destroyed in a standard entered to scp-092 was preferated in a standard elactible species and scp-056-1. scp-092 from the will survive was performed of scp-090 subject composite standard containment procedures of the ability to be an entraloce a\n",
      "------ temperature: 1.0\n",
      "d containment procedures of the ability to be an entraloce and though vialed pre-ald incident. scp-046 will security from he his studite without the prope ment arrenglh█, and mem to have been whichy: me handing streacting insking which a which to the closed hourize to manireres of a remitsion or unyver over the taberal and falation to be able to reme to scp-06d. understand floor no object install9 the samples. bewavitely thinghad scp facility to the since \n",
      "------ temperature: 1.2\n",
      " the samples. bewavitely thinghad scp facility to the since of occary. you.ups -lings hadred ts me reneitmenctorsuree's undergy.\n",
      "dections and muc. feen the due to th-ges, as a bove alowh h-int  0 m membenslorazage, scp-t2-65 shuectlon containment facilitorate in signifiually's noiging ws) ahouch on eyedlign me. meshading stpets that it jrikedkings slapled\", the polyti8l, alsn-0fcer transformance creat's iamittel's air.w flas, in these cleaned anomall.\n",
      "inst\n",
      "epoch 9\n",
      "Epoch 1/1\n",
      "144128/172551 [========================>.....] - ETA: 26s - loss: 1.3462"
     ]
    },
    {
     "ename": "KeyboardInterrupt",
     "evalue": "",
     "output_type": "error",
     "traceback": [
      "\u001b[1;31m---------------------------------------------------------------------------\u001b[0m",
      "\u001b[1;31mKeyboardInterrupt\u001b[0m                         Traceback (most recent call last)",
      "\u001b[1;32m<ipython-input-7-9486ed95c0ca>\u001b[0m in \u001b[0;36m<module>\u001b[1;34m\u001b[0m\n\u001b[0;32m      7\u001b[0m     model.fit(x, y,\n\u001b[0;32m      8\u001b[0m               \u001b[0mbatch_size\u001b[0m\u001b[1;33m=\u001b[0m\u001b[1;36m128\u001b[0m\u001b[1;33m,\u001b[0m\u001b[1;33m\u001b[0m\u001b[1;33m\u001b[0m\u001b[0m\n\u001b[1;32m----> 9\u001b[1;33m               epochs=1)\n\u001b[0m\u001b[0;32m     10\u001b[0m \u001b[1;33m\u001b[0m\u001b[0m\n\u001b[0;32m     11\u001b[0m     \u001b[1;31m# Select a text seed at random\u001b[0m\u001b[1;33m\u001b[0m\u001b[1;33m\u001b[0m\u001b[1;33m\u001b[0m\u001b[0m\n",
      "\u001b[1;32m~\\Anaconda3\\lib\\site-packages\\keras\\engine\\training.py\u001b[0m in \u001b[0;36mfit\u001b[1;34m(self, x, y, batch_size, epochs, verbose, callbacks, validation_split, validation_data, shuffle, class_weight, sample_weight, initial_epoch, steps_per_epoch, validation_steps, **kwargs)\u001b[0m\n\u001b[0;32m   1037\u001b[0m                                         \u001b[0minitial_epoch\u001b[0m\u001b[1;33m=\u001b[0m\u001b[0minitial_epoch\u001b[0m\u001b[1;33m,\u001b[0m\u001b[1;33m\u001b[0m\u001b[1;33m\u001b[0m\u001b[0m\n\u001b[0;32m   1038\u001b[0m                                         \u001b[0msteps_per_epoch\u001b[0m\u001b[1;33m=\u001b[0m\u001b[0msteps_per_epoch\u001b[0m\u001b[1;33m,\u001b[0m\u001b[1;33m\u001b[0m\u001b[1;33m\u001b[0m\u001b[0m\n\u001b[1;32m-> 1039\u001b[1;33m                                         validation_steps=validation_steps)\n\u001b[0m\u001b[0;32m   1040\u001b[0m \u001b[1;33m\u001b[0m\u001b[0m\n\u001b[0;32m   1041\u001b[0m     def evaluate(self, x=None, y=None,\n",
      "\u001b[1;32m~\\Anaconda3\\lib\\site-packages\\keras\\engine\\training_arrays.py\u001b[0m in \u001b[0;36mfit_loop\u001b[1;34m(model, f, ins, out_labels, batch_size, epochs, verbose, callbacks, val_f, val_ins, shuffle, callback_metrics, initial_epoch, steps_per_epoch, validation_steps)\u001b[0m\n\u001b[0;32m    197\u001b[0m                     \u001b[0mins_batch\u001b[0m\u001b[1;33m[\u001b[0m\u001b[0mi\u001b[0m\u001b[1;33m]\u001b[0m \u001b[1;33m=\u001b[0m \u001b[0mins_batch\u001b[0m\u001b[1;33m[\u001b[0m\u001b[0mi\u001b[0m\u001b[1;33m]\u001b[0m\u001b[1;33m.\u001b[0m\u001b[0mtoarray\u001b[0m\u001b[1;33m(\u001b[0m\u001b[1;33m)\u001b[0m\u001b[1;33m\u001b[0m\u001b[1;33m\u001b[0m\u001b[0m\n\u001b[0;32m    198\u001b[0m \u001b[1;33m\u001b[0m\u001b[0m\n\u001b[1;32m--> 199\u001b[1;33m                 \u001b[0mouts\u001b[0m \u001b[1;33m=\u001b[0m \u001b[0mf\u001b[0m\u001b[1;33m(\u001b[0m\u001b[0mins_batch\u001b[0m\u001b[1;33m)\u001b[0m\u001b[1;33m\u001b[0m\u001b[1;33m\u001b[0m\u001b[0m\n\u001b[0m\u001b[0;32m    200\u001b[0m                 \u001b[0mouts\u001b[0m \u001b[1;33m=\u001b[0m \u001b[0mto_list\u001b[0m\u001b[1;33m(\u001b[0m\u001b[0mouts\u001b[0m\u001b[1;33m)\u001b[0m\u001b[1;33m\u001b[0m\u001b[1;33m\u001b[0m\u001b[0m\n\u001b[0;32m    201\u001b[0m                 \u001b[1;32mfor\u001b[0m \u001b[0ml\u001b[0m\u001b[1;33m,\u001b[0m \u001b[0mo\u001b[0m \u001b[1;32min\u001b[0m \u001b[0mzip\u001b[0m\u001b[1;33m(\u001b[0m\u001b[0mout_labels\u001b[0m\u001b[1;33m,\u001b[0m \u001b[0mouts\u001b[0m\u001b[1;33m)\u001b[0m\u001b[1;33m:\u001b[0m\u001b[1;33m\u001b[0m\u001b[1;33m\u001b[0m\u001b[0m\n",
      "\u001b[1;32m~\\Anaconda3\\lib\\site-packages\\keras\\backend\\tensorflow_backend.py\u001b[0m in \u001b[0;36m__call__\u001b[1;34m(self, inputs)\u001b[0m\n\u001b[0;32m   2713\u001b[0m                 \u001b[1;32mreturn\u001b[0m \u001b[0mself\u001b[0m\u001b[1;33m.\u001b[0m\u001b[0m_legacy_call\u001b[0m\u001b[1;33m(\u001b[0m\u001b[0minputs\u001b[0m\u001b[1;33m)\u001b[0m\u001b[1;33m\u001b[0m\u001b[1;33m\u001b[0m\u001b[0m\n\u001b[0;32m   2714\u001b[0m \u001b[1;33m\u001b[0m\u001b[0m\n\u001b[1;32m-> 2715\u001b[1;33m             \u001b[1;32mreturn\u001b[0m \u001b[0mself\u001b[0m\u001b[1;33m.\u001b[0m\u001b[0m_call\u001b[0m\u001b[1;33m(\u001b[0m\u001b[0minputs\u001b[0m\u001b[1;33m)\u001b[0m\u001b[1;33m\u001b[0m\u001b[1;33m\u001b[0m\u001b[0m\n\u001b[0m\u001b[0;32m   2716\u001b[0m         \u001b[1;32melse\u001b[0m\u001b[1;33m:\u001b[0m\u001b[1;33m\u001b[0m\u001b[1;33m\u001b[0m\u001b[0m\n\u001b[0;32m   2717\u001b[0m             \u001b[1;32mif\u001b[0m \u001b[0mpy_any\u001b[0m\u001b[1;33m(\u001b[0m\u001b[0mis_tensor\u001b[0m\u001b[1;33m(\u001b[0m\u001b[0mx\u001b[0m\u001b[1;33m)\u001b[0m \u001b[1;32mfor\u001b[0m \u001b[0mx\u001b[0m \u001b[1;32min\u001b[0m \u001b[0minputs\u001b[0m\u001b[1;33m)\u001b[0m\u001b[1;33m:\u001b[0m\u001b[1;33m\u001b[0m\u001b[1;33m\u001b[0m\u001b[0m\n",
      "\u001b[1;32m~\\Anaconda3\\lib\\site-packages\\keras\\backend\\tensorflow_backend.py\u001b[0m in \u001b[0;36m_call\u001b[1;34m(self, inputs)\u001b[0m\n\u001b[0;32m   2673\u001b[0m             \u001b[0mfetched\u001b[0m \u001b[1;33m=\u001b[0m \u001b[0mself\u001b[0m\u001b[1;33m.\u001b[0m\u001b[0m_callable_fn\u001b[0m\u001b[1;33m(\u001b[0m\u001b[1;33m*\u001b[0m\u001b[0marray_vals\u001b[0m\u001b[1;33m,\u001b[0m \u001b[0mrun_metadata\u001b[0m\u001b[1;33m=\u001b[0m\u001b[0mself\u001b[0m\u001b[1;33m.\u001b[0m\u001b[0mrun_metadata\u001b[0m\u001b[1;33m)\u001b[0m\u001b[1;33m\u001b[0m\u001b[1;33m\u001b[0m\u001b[0m\n\u001b[0;32m   2674\u001b[0m         \u001b[1;32melse\u001b[0m\u001b[1;33m:\u001b[0m\u001b[1;33m\u001b[0m\u001b[1;33m\u001b[0m\u001b[0m\n\u001b[1;32m-> 2675\u001b[1;33m             \u001b[0mfetched\u001b[0m \u001b[1;33m=\u001b[0m \u001b[0mself\u001b[0m\u001b[1;33m.\u001b[0m\u001b[0m_callable_fn\u001b[0m\u001b[1;33m(\u001b[0m\u001b[1;33m*\u001b[0m\u001b[0marray_vals\u001b[0m\u001b[1;33m)\u001b[0m\u001b[1;33m\u001b[0m\u001b[1;33m\u001b[0m\u001b[0m\n\u001b[0m\u001b[0;32m   2676\u001b[0m         \u001b[1;32mreturn\u001b[0m \u001b[0mfetched\u001b[0m\u001b[1;33m[\u001b[0m\u001b[1;33m:\u001b[0m\u001b[0mlen\u001b[0m\u001b[1;33m(\u001b[0m\u001b[0mself\u001b[0m\u001b[1;33m.\u001b[0m\u001b[0moutputs\u001b[0m\u001b[1;33m)\u001b[0m\u001b[1;33m]\u001b[0m\u001b[1;33m\u001b[0m\u001b[1;33m\u001b[0m\u001b[0m\n\u001b[0;32m   2677\u001b[0m \u001b[1;33m\u001b[0m\u001b[0m\n",
      "\u001b[1;32m~\\Anaconda3\\lib\\site-packages\\tensorflow\\python\\client\\session.py\u001b[0m in \u001b[0;36m__call__\u001b[1;34m(self, *args, **kwargs)\u001b[0m\n\u001b[0;32m   1437\u001b[0m           ret = tf_session.TF_SessionRunCallable(\n\u001b[0;32m   1438\u001b[0m               \u001b[0mself\u001b[0m\u001b[1;33m.\u001b[0m\u001b[0m_session\u001b[0m\u001b[1;33m.\u001b[0m\u001b[0m_session\u001b[0m\u001b[1;33m,\u001b[0m \u001b[0mself\u001b[0m\u001b[1;33m.\u001b[0m\u001b[0m_handle\u001b[0m\u001b[1;33m,\u001b[0m \u001b[0margs\u001b[0m\u001b[1;33m,\u001b[0m \u001b[0mstatus\u001b[0m\u001b[1;33m,\u001b[0m\u001b[1;33m\u001b[0m\u001b[1;33m\u001b[0m\u001b[0m\n\u001b[1;32m-> 1439\u001b[1;33m               run_metadata_ptr)\n\u001b[0m\u001b[0;32m   1440\u001b[0m         \u001b[1;32mif\u001b[0m \u001b[0mrun_metadata\u001b[0m\u001b[1;33m:\u001b[0m\u001b[1;33m\u001b[0m\u001b[1;33m\u001b[0m\u001b[0m\n\u001b[0;32m   1441\u001b[0m           \u001b[0mproto_data\u001b[0m \u001b[1;33m=\u001b[0m \u001b[0mtf_session\u001b[0m\u001b[1;33m.\u001b[0m\u001b[0mTF_GetBuffer\u001b[0m\u001b[1;33m(\u001b[0m\u001b[0mrun_metadata_ptr\u001b[0m\u001b[1;33m)\u001b[0m\u001b[1;33m\u001b[0m\u001b[1;33m\u001b[0m\u001b[0m\n",
      "\u001b[1;31mKeyboardInterrupt\u001b[0m: "
     ]
    }
   ],
   "source": [
    "import random\n",
    "import sys\n",
    "\n",
    "for epoch in range(1, 60):\n",
    "    print('epoch', epoch)\n",
    "    # Fit the model for 1 epoch on the available training data\n",
    "    model.fit(x, y,\n",
    "              batch_size=128,\n",
    "              epochs=1)\n",
    "\n",
    "    # Select a text seed at random\n",
    "    start_index = random.randint(0, len(text) - maxlen - 1)\n",
    "    generated_text = text[start_index: start_index + maxlen]\n",
    "    print('--- Generating with seed: \"' + generated_text + '\"')\n",
    "\n",
    "    for temperature in [0.2, 0.5, 1.0, 1.2]:\n",
    "        print('------ temperature:', temperature)\n",
    "        sys.stdout.write(generated_text)\n",
    "\n",
    "        # We generate 400 characters\n",
    "        for i in range(400):\n",
    "            sampled = np.zeros((1, maxlen, len(chars)))\n",
    "            for t, char in enumerate(generated_text):\n",
    "                sampled[0, t, char_indices[char]] = 1.\n",
    "\n",
    "            preds = model.predict(sampled, verbose=0)[0]\n",
    "            next_index = sample(preds, temperature)\n",
    "            next_char = chars[next_index]\n",
    "\n",
    "            generated_text += next_char\n",
    "            generated_text = generated_text[1:]\n",
    "\n",
    "            sys.stdout.write(next_char)\n",
    "            sys.stdout.flush()\n",
    "        print()"
   ]
  },
  {
   "cell_type": "markdown",
   "metadata": {},
   "source": [
    "##### Generating \"SCP Text\" :^)"
   ]
  },
  {
   "cell_type": "code",
   "execution_count": 15,
   "metadata": {},
   "outputs": [],
   "source": [
    "#opening weights file\n",
    "json_file = open('LSTM_model.json', 'r')\n",
    "loaded_model_json = json_file.read()\n",
    "json_file.close()\n",
    "loaded_model = model_from_json(loaded_model_json)\n",
    "loaded_model.load_weights(\"LSTM_weights.h5\")"
   ]
  },
  {
   "cell_type": "code",
   "execution_count": 20,
   "metadata": {},
   "outputs": [],
   "source": [
    "del(string_mapping)\n",
    "del(full_string)\n",
    "\n",
    "string_mapping = X[0]\n",
    "full_string = [n_to_char[value] for value in string_mapping]"
   ]
  },
  {
   "cell_type": "code",
   "execution_count": 21,
   "metadata": {},
   "outputs": [
    {
     "ename": "ValueError",
     "evalue": "Error when checking input: expected lstm_1_input to have shape (100, 1) but got array with shape (101, 1)",
     "output_type": "error",
     "traceback": [
      "\u001b[1;31m---------------------------------------------------------------------------\u001b[0m",
      "\u001b[1;31mValueError\u001b[0m                                Traceback (most recent call last)",
      "\u001b[1;32m<ipython-input-21-c708a1621e85>\u001b[0m in \u001b[0;36m<module>\u001b[1;34m\u001b[0m\n\u001b[0;32m      4\u001b[0m     \u001b[0mx\u001b[0m \u001b[1;33m=\u001b[0m \u001b[0mx\u001b[0m \u001b[1;33m/\u001b[0m \u001b[0mfloat\u001b[0m\u001b[1;33m(\u001b[0m\u001b[0mlen\u001b[0m\u001b[1;33m(\u001b[0m\u001b[0mchars\u001b[0m\u001b[1;33m)\u001b[0m\u001b[1;33m)\u001b[0m\u001b[1;33m\u001b[0m\u001b[1;33m\u001b[0m\u001b[0m\n\u001b[0;32m      5\u001b[0m \u001b[1;33m\u001b[0m\u001b[0m\n\u001b[1;32m----> 6\u001b[1;33m     \u001b[0mpred_index\u001b[0m \u001b[1;33m=\u001b[0m \u001b[0mnp\u001b[0m\u001b[1;33m.\u001b[0m\u001b[0margmax\u001b[0m\u001b[1;33m(\u001b[0m\u001b[0mloaded_model\u001b[0m\u001b[1;33m.\u001b[0m\u001b[0mpredict\u001b[0m\u001b[1;33m(\u001b[0m\u001b[0mx\u001b[0m\u001b[1;33m,\u001b[0m \u001b[0mverbose\u001b[0m\u001b[1;33m=\u001b[0m\u001b[1;36m0\u001b[0m\u001b[1;33m)\u001b[0m\u001b[1;33m)\u001b[0m\u001b[1;33m\u001b[0m\u001b[1;33m\u001b[0m\u001b[0m\n\u001b[0m\u001b[0;32m      7\u001b[0m     \u001b[1;31m#predicted = model.predict(x,verbose=0)\u001b[0m\u001b[1;33m\u001b[0m\u001b[1;33m\u001b[0m\u001b[1;33m\u001b[0m\u001b[0m\n\u001b[0;32m      8\u001b[0m     \u001b[1;31m#pred_index2 = np.random.choice(len(predicted), predicted)\u001b[0m\u001b[1;33m\u001b[0m\u001b[1;33m\u001b[0m\u001b[1;33m\u001b[0m\u001b[0m\n",
      "\u001b[1;32m~\\Anaconda3\\lib\\site-packages\\keras\\engine\\training.py\u001b[0m in \u001b[0;36mpredict\u001b[1;34m(self, x, batch_size, verbose, steps)\u001b[0m\n\u001b[0;32m   1147\u001b[0m                              'argument.')\n\u001b[0;32m   1148\u001b[0m         \u001b[1;31m# Validate user data.\u001b[0m\u001b[1;33m\u001b[0m\u001b[1;33m\u001b[0m\u001b[1;33m\u001b[0m\u001b[0m\n\u001b[1;32m-> 1149\u001b[1;33m         \u001b[0mx\u001b[0m\u001b[1;33m,\u001b[0m \u001b[0m_\u001b[0m\u001b[1;33m,\u001b[0m \u001b[0m_\u001b[0m \u001b[1;33m=\u001b[0m \u001b[0mself\u001b[0m\u001b[1;33m.\u001b[0m\u001b[0m_standardize_user_data\u001b[0m\u001b[1;33m(\u001b[0m\u001b[0mx\u001b[0m\u001b[1;33m)\u001b[0m\u001b[1;33m\u001b[0m\u001b[1;33m\u001b[0m\u001b[0m\n\u001b[0m\u001b[0;32m   1150\u001b[0m         \u001b[1;32mif\u001b[0m \u001b[0mself\u001b[0m\u001b[1;33m.\u001b[0m\u001b[0mstateful\u001b[0m\u001b[1;33m:\u001b[0m\u001b[1;33m\u001b[0m\u001b[1;33m\u001b[0m\u001b[0m\n\u001b[0;32m   1151\u001b[0m             \u001b[1;32mif\u001b[0m \u001b[0mx\u001b[0m\u001b[1;33m[\u001b[0m\u001b[1;36m0\u001b[0m\u001b[1;33m]\u001b[0m\u001b[1;33m.\u001b[0m\u001b[0mshape\u001b[0m\u001b[1;33m[\u001b[0m\u001b[1;36m0\u001b[0m\u001b[1;33m]\u001b[0m \u001b[1;33m>\u001b[0m \u001b[0mbatch_size\u001b[0m \u001b[1;32mand\u001b[0m \u001b[0mx\u001b[0m\u001b[1;33m[\u001b[0m\u001b[1;36m0\u001b[0m\u001b[1;33m]\u001b[0m\u001b[1;33m.\u001b[0m\u001b[0mshape\u001b[0m\u001b[1;33m[\u001b[0m\u001b[1;36m0\u001b[0m\u001b[1;33m]\u001b[0m \u001b[1;33m%\u001b[0m \u001b[0mbatch_size\u001b[0m \u001b[1;33m!=\u001b[0m \u001b[1;36m0\u001b[0m\u001b[1;33m:\u001b[0m\u001b[1;33m\u001b[0m\u001b[1;33m\u001b[0m\u001b[0m\n",
      "\u001b[1;32m~\\Anaconda3\\lib\\site-packages\\keras\\engine\\training.py\u001b[0m in \u001b[0;36m_standardize_user_data\u001b[1;34m(self, x, y, sample_weight, class_weight, check_array_lengths, batch_size)\u001b[0m\n\u001b[0;32m    749\u001b[0m             \u001b[0mfeed_input_shapes\u001b[0m\u001b[1;33m,\u001b[0m\u001b[1;33m\u001b[0m\u001b[1;33m\u001b[0m\u001b[0m\n\u001b[0;32m    750\u001b[0m             \u001b[0mcheck_batch_axis\u001b[0m\u001b[1;33m=\u001b[0m\u001b[1;32mFalse\u001b[0m\u001b[1;33m,\u001b[0m  \u001b[1;31m# Don't enforce the batch size.\u001b[0m\u001b[1;33m\u001b[0m\u001b[1;33m\u001b[0m\u001b[0m\n\u001b[1;32m--> 751\u001b[1;33m             exception_prefix='input')\n\u001b[0m\u001b[0;32m    752\u001b[0m \u001b[1;33m\u001b[0m\u001b[0m\n\u001b[0;32m    753\u001b[0m         \u001b[1;32mif\u001b[0m \u001b[0my\u001b[0m \u001b[1;32mis\u001b[0m \u001b[1;32mnot\u001b[0m \u001b[1;32mNone\u001b[0m\u001b[1;33m:\u001b[0m\u001b[1;33m\u001b[0m\u001b[1;33m\u001b[0m\u001b[0m\n",
      "\u001b[1;32m~\\Anaconda3\\lib\\site-packages\\keras\\engine\\training_utils.py\u001b[0m in \u001b[0;36mstandardize_input_data\u001b[1;34m(data, names, shapes, check_batch_axis, exception_prefix)\u001b[0m\n\u001b[0;32m    136\u001b[0m                             \u001b[1;34m': expected '\u001b[0m \u001b[1;33m+\u001b[0m \u001b[0mnames\u001b[0m\u001b[1;33m[\u001b[0m\u001b[0mi\u001b[0m\u001b[1;33m]\u001b[0m \u001b[1;33m+\u001b[0m \u001b[1;34m' to have shape '\u001b[0m \u001b[1;33m+\u001b[0m\u001b[1;33m\u001b[0m\u001b[1;33m\u001b[0m\u001b[0m\n\u001b[0;32m    137\u001b[0m                             \u001b[0mstr\u001b[0m\u001b[1;33m(\u001b[0m\u001b[0mshape\u001b[0m\u001b[1;33m)\u001b[0m \u001b[1;33m+\u001b[0m \u001b[1;34m' but got array with shape '\u001b[0m \u001b[1;33m+\u001b[0m\u001b[1;33m\u001b[0m\u001b[1;33m\u001b[0m\u001b[0m\n\u001b[1;32m--> 138\u001b[1;33m                             str(data_shape))\n\u001b[0m\u001b[0;32m    139\u001b[0m     \u001b[1;32mreturn\u001b[0m \u001b[0mdata\u001b[0m\u001b[1;33m\u001b[0m\u001b[1;33m\u001b[0m\u001b[0m\n\u001b[0;32m    140\u001b[0m \u001b[1;33m\u001b[0m\u001b[0m\n",
      "\u001b[1;31mValueError\u001b[0m: Error when checking input: expected lstm_1_input to have shape (100, 1) but got array with shape (101, 1)"
     ]
    }
   ],
   "source": [
    "#generate characters\n",
    "for i in range(400):\n",
    "    x = np.reshape(string_mapping, (1, len(string_mapping), 1))\n",
    "    x = x / float(len(chars))\n",
    "    \n",
    "    #pred_index = np.argmax(loaded_model.predict(x, verbose=0))\n",
    "    predicted = loaded_model.predict(x,verbose=0)\n",
    "    pred_index2 = np.random.choice(len(predicted), p=predicted)\n",
    "    seq = [n_to_char[value] for value in string_mapping]\n",
    "    full_string.append(n_to_char[pred_index2])\n",
    "\n",
    "    string_mapping.append(pred_index2)\n",
    "    string_mapping = string_mapping[1:len(string_mapping)]"
   ]
  },
  {
   "cell_type": "code",
   "execution_count": 9,
   "metadata": {},
   "outputs": [
    {
     "name": "stdout",
     "output_type": "stream",
     "text": [
      "\n",
      "rating: +1187+x\n",
      "\n",
      "\n",
      "scp-002 in its containment area\n",
      "\n",
      "\n",
      "item #: scp-002\n",
      "object class: euclid\n",
      "special containment procedures: scp-033 is to be centetion of the sepeing the sepeing the sepeing the sepeing the sepeing the sepeing the sepeing the sepeing the sepeing the sepeing the sepeing the sepeing the sepeing the sepeing the sepeing the sepeing the sepeing the sepeing the sepeing the sepeing the sepeing the sepeing the sepeing the sepeing the sepeing the sepeing the sepeing the sepeing the sepeing \n"
     ]
    }
   ],
   "source": [
    "#combining text\n",
    "txt = \"\"\n",
    "for char in full_string:\n",
    "    txt = txt+char\n",
    "\n",
    "print(txt)"
   ]
  },
  {
   "cell_type": "code",
   "execution_count": null,
   "metadata": {},
   "outputs": [],
   "source": []
  }
 ],
 "metadata": {
  "kernelspec": {
   "display_name": "Python 3",
   "language": "python",
   "name": "python3"
  },
  "language_info": {
   "codemirror_mode": {
    "name": "ipython",
    "version": 3
   },
   "file_extension": ".py",
   "mimetype": "text/x-python",
   "name": "python",
   "nbconvert_exporter": "python",
   "pygments_lexer": "ipython3",
   "version": "3.7.1"
  }
 },
 "nbformat": 4,
 "nbformat_minor": 2
}
